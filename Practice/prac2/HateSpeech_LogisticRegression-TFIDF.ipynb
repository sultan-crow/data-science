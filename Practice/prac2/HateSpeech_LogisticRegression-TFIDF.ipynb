{
 "cells": [
  {
   "cell_type": "code",
   "execution_count": 1,
   "metadata": {
    "colab": {
     "base_uri": "https://localhost:8080/",
     "height": 68
    },
    "colab_type": "code",
    "id": "DULs92gDnpPV",
    "outputId": "b3f0097c-6bec-430e-94f9-f11426d56fff"
   },
   "outputs": [
    {
     "name": "stderr",
     "output_type": "stream",
     "text": [
      "[nltk_data] Downloading package stopwords to /home/ketan/nltk_data...\n",
      "[nltk_data]   Package stopwords is already up-to-date!\n"
     ]
    },
    {
     "data": {
      "text/plain": [
       "True"
      ]
     },
     "execution_count": 1,
     "metadata": {},
     "output_type": "execute_result"
    }
   ],
   "source": [
    "import pandas as pd\n",
    "import numpy as np\n",
    "import re, string, math\n",
    "from sklearn.model_selection import train_test_split\n",
    "from nltk.corpus import stopwords\n",
    "import nltk\n",
    "nltk.download('stopwords')"
   ]
  },
  {
   "cell_type": "code",
   "execution_count": 2,
   "metadata": {
    "colab": {},
    "colab_type": "code",
    "id": "i12YjXzeKXFl"
   },
   "outputs": [],
   "source": [
    "train_url=\"https://raw.githubusercontent.com/sultan-crow/data-science/master/Assignment/Assig2/train3.csv\"\n",
    "#\"https://raw.githubusercontent.com/sultan-crow/data-science/master/Assignment/Assig2/train.csv\"\n",
    "test_url=\"https://raw.githubusercontent.com/sultan-crow/data-science/master/Assignment/Assig2/dev.csv\"\n",
    "#test_url=\"https://raw.githubusercontent.com/sultan-crow/data-science/master/Assignment/Assig2/train3.csv\"\n",
    "\n",
    "stopWords = stopwords.words(\"english\")"
   ]
  },
  {
   "cell_type": "code",
   "execution_count": 4,
   "metadata": {
    "colab": {
     "base_uri": "https://localhost:8080/",
     "height": 204
    },
    "colab_type": "code",
    "id": "JPDkPZAoRYoI",
    "outputId": "958f1449-c84e-4d36-a451-e24959638bbb"
   },
   "outputs": [
    {
     "data": {
      "text/html": [
       "<div>\n",
       "<style scoped>\n",
       "    .dataframe tbody tr th:only-of-type {\n",
       "        vertical-align: middle;\n",
       "    }\n",
       "\n",
       "    .dataframe tbody tr th {\n",
       "        vertical-align: top;\n",
       "    }\n",
       "\n",
       "    .dataframe thead th {\n",
       "        text-align: right;\n",
       "    }\n",
       "</style>\n",
       "<table border=\"1\" class=\"dataframe\">\n",
       "  <thead>\n",
       "    <tr style=\"text-align: right;\">\n",
       "      <th></th>\n",
       "      <th>Insult</th>\n",
       "      <th>Comment</th>\n",
       "    </tr>\n",
       "  </thead>\n",
       "  <tbody>\n",
       "    <tr>\n",
       "      <th>711</th>\n",
       "      <td>1</td>\n",
       "      <td>\"&lt;strong&gt;Obama's campaign is in deep trouble. ...</td>\n",
       "    </tr>\n",
       "    <tr>\n",
       "      <th>1287</th>\n",
       "      <td>1</td>\n",
       "      <td>\"This is one of many reasons why you are the f...</td>\n",
       "    </tr>\n",
       "    <tr>\n",
       "      <th>1584</th>\n",
       "      <td>0</td>\n",
       "      <td>\"Bless you for all your wonderful pins on pay ...</td>\n",
       "    </tr>\n",
       "    <tr>\n",
       "      <th>2178</th>\n",
       "      <td>1</td>\n",
       "      <td>\"check yourself before you hurt yourself ham f...</td>\n",
       "    </tr>\n",
       "    <tr>\n",
       "      <th>323</th>\n",
       "      <td>0</td>\n",
       "      <td>\"jean jacket..thats that shit i dont like\"</td>\n",
       "    </tr>\n",
       "  </tbody>\n",
       "</table>\n",
       "</div>"
      ],
      "text/plain": [
       "      Insult                                            Comment\n",
       "711        1  \"<strong>Obama's campaign is in deep trouble. ...\n",
       "1287       1  \"This is one of many reasons why you are the f...\n",
       "1584       0  \"Bless you for all your wonderful pins on pay ...\n",
       "2178       1  \"check yourself before you hurt yourself ham f...\n",
       "323        0         \"jean jacket..thats that shit i dont like\""
      ]
     },
     "execution_count": 4,
     "metadata": {},
     "output_type": "execute_result"
    }
   ],
   "source": [
    "test_df=pd.read_csv(test_url)\n",
    "train_df, test_df = train_test_split(test_df)\n",
    "train_df = train_df.copy()\n",
    "test_df = test_df.copy()\n",
    "train_df.head()"
   ]
  },
  {
   "cell_type": "code",
   "execution_count": 5,
   "metadata": {
    "colab": {},
    "colab_type": "code",
    "id": "TcxrsZGAJ2H7"
   },
   "outputs": [],
   "source": [
    "reg = re.compile(\"([a-z ])\", re.IGNORECASE | re.DOTALL | re.MULTILINE)\n",
    "def tokenize(comment_text):\n",
    "    comment_text = comment_text.lower()\n",
    "    comment_text = comment_text.translate(comment_text.maketrans(string.punctuation,' ' * len(string.punctuation)))\n",
    "    comment_text = \"\".join(reg.findall(comment_text))\n",
    "    #return comment_text\n",
    "    return comment_text.split(' ')\n",
    "def tokenize2(comment_text):\n",
    "    comment_text = comment_text.lower()\n",
    "    comment_text = comment_text.translate(comment_text.maketrans(string.punctuation,' ' * len(string.punctuation)))\n",
    "    comment_text = \"\".join(reg.findall(comment_text))\n",
    "    return comment_text\n",
    "    #return comment_text.split(' ')\n",
    "\n",
    "  \n",
    "  \n",
    "all_words=set()\n",
    "def build_master_vocab(x):\n",
    "  all_words.update(word for word in tokenize(x['Comment']) if word not in stopWords)\n"
   ]
  },
  {
   "cell_type": "code",
   "execution_count": 6,
   "metadata": {
    "colab": {
     "base_uri": "https://localhost:8080/",
     "height": 0
    },
    "colab_type": "code",
    "id": "m4__aisBYZLJ",
    "outputId": "7cdcb277-ee80-41f9-d071-f00e02558e02"
   },
   "outputs": [
    {
     "data": {
      "text/plain": [
       "1676"
      ]
     },
     "execution_count": 6,
     "metadata": {},
     "output_type": "execute_result"
    }
   ],
   "source": [
    "#Building dictionary/set of all the words in all the documents\n",
    "train_df.apply(lambda x:build_master_vocab(x), axis=1)\n",
    "all_words\n",
    "num_dataset=train_df.shape[0]\n",
    "num_dataset\n",
    "#feature_df=pd.DataFrame(index=range(0,num_dataset),columns=all_words).fillna(0)\n",
    "#feature_df.shape\n",
    "#train_df.apply(lambda x: build_feature_vector(x['Comment'],x['Insult']))\n",
    "#train_df.apply(lambda x: tokenize(x['Comment']), axis=1)\n",
    "#all_words"
   ]
  },
  {
   "cell_type": "code",
   "execution_count": 13,
   "metadata": {
    "colab": {},
    "colab_type": "code",
    "id": "nmC2uezclb0O"
   },
   "outputs": [],
   "source": [
    "#print(gradient(Xs,Ys))\n",
    "def gradient(Xs,Ys,iterations=10000,tolerance=.2,alpha=.2):\n",
    "  num_dataset,num_features=np.shape(Xs)\n",
    "  print(num_dataset,num_features)\n",
    "  thetas=np.ones(num_features).reshape(-1,1)# Initial feature weights as 1\n",
    "  Xs_T=Xs.T\n",
    "  print(thetas.shape)\n",
    "  for i in range(iterations):\n",
    "    diff=np.dot(Xs,thetas)-Ys\n",
    "    #print(diff)\n",
    "    cost=np.dot(diff.T,diff)/(2*num_dataset)\n",
    "    gradient=np.dot(Xs_T,diff);\n",
    "    gradient=gradient/num_dataset\n",
    "    thetas=thetas-alpha*gradient\n",
    "    #print(\"Iteration \",i+1,\"Cost: \",cost)\n",
    "    if(cost<tolerance):\n",
    "      return thetas"
   ]
  },
  {
   "cell_type": "code",
   "execution_count": 14,
   "metadata": {
    "colab": {
     "base_uri": "https://localhost:8080/",
     "height": 0
    },
    "colab_type": "code",
    "id": "8-lPphA9VdE1",
    "outputId": "24729383-a5db-4add-ca31-974029790039"
   },
   "outputs": [
    {
     "name": "stdout",
     "output_type": "stream",
     "text": [
      "(1676, 1)\n",
      "1676 5983\n",
      "(5983, 1)\n",
      "(5983, 1) (559, 5983)\n"
     ]
    }
   ],
   "source": [
    "from sklearn.feature_extraction.text import CountVectorizer\n",
    "from sklearn.feature_extraction.text import TfidfVectorizer\n",
    "cv = CountVectorizer(vocabulary=all_words)\n",
    "cv = TfidfVectorizer(vocabulary=all_words)\n",
    "\n",
    "feature_matrix=cv.fit_transform(\n",
    "    train_df.apply(lambda x: tokenize2(x['Comment']), axis=1)\n",
    ")\n",
    "\n",
    "feature_matrix2=cv.fit_transform(\n",
    "    test_df.apply(lambda x: tokenize2(x['Comment']), axis=1)\n",
    ")\n",
    "#print(cv.get_feature_names())\n",
    "Xs=feature_matrix.toarray()\n",
    "Ys=train_df['Insult']\n",
    "Ys=np.array(Ys).reshape(-1,1)\n",
    "Xs2=feature_matrix2.toarray()\n",
    "\n",
    "print(Ys.shape)\n",
    "thetas=gradient(Xs,Ys)\n",
    "print(thetas.shape,Xs2.shape)\n",
    "# print(Xs.shape)"
   ]
  },
  {
   "cell_type": "code",
   "execution_count": null,
   "metadata": {},
   "outputs": [],
   "source": [
    "from sklearn.feature_extraction.text import TfidfVectorizer\n",
    "tfidf = TfidfVectorizer(vocabulary=all_words)\n",
    "feature_matrix=tfidf.fit_transform(\n",
    "    train_df.apply(lambda x: tokenize2(x['Comment']), axis=1)\n",
    ")\n",
    "\n",
    "feature_matrix2=tfidf.fit_transform(\n",
    "    test_df.apply(lambda x: tokenize2(x['Comment']), axis=1)\n",
    ")\n",
    "#print(cv.get_feature_names())\n",
    "Xs=feature_matrix.toarray()\n",
    "Ys=train_df['Insult']\n",
    "Ys=np.array(Ys).reshape(-1,1)\n",
    "Xs2=feature_matrix2.toarray()\n",
    "\n",
    "print(Ys.shape)\n",
    "thetas=gradient(Xs,Ys)\n",
    "print(thetas.shape,Xs2.shape)\n",
    "# print(Xs.shape)"
   ]
  },
  {
   "cell_type": "code",
   "execution_count": 11,
   "metadata": {},
   "outputs": [
    {
     "ename": "TypeError",
     "evalue": "unsupported operand type(s) for *: 'float' and 'NoneType'",
     "output_type": "error",
     "traceback": [
      "\u001b[0;31m---------------------------------------------------------------------------\u001b[0m",
      "\u001b[0;31mTypeError\u001b[0m                                 Traceback (most recent call last)",
      "\u001b[0;32m<ipython-input-11-7bfeaa206324>\u001b[0m in \u001b[0;36m<module>\u001b[0;34m\u001b[0m\n\u001b[0;32m----> 1\u001b[0;31m \u001b[0mpredictions\u001b[0m\u001b[0;34m=\u001b[0m\u001b[0mnp\u001b[0m\u001b[0;34m.\u001b[0m\u001b[0mdot\u001b[0m\u001b[0;34m(\u001b[0m\u001b[0mXs2\u001b[0m\u001b[0;34m,\u001b[0m\u001b[0mthetas\u001b[0m\u001b[0;34m)\u001b[0m\u001b[0;34m\u001b[0m\u001b[0;34m\u001b[0m\u001b[0m\n\u001b[0m\u001b[1;32m      2\u001b[0m \u001b[0;31m#print(predictions)\u001b[0m\u001b[0;34m\u001b[0m\u001b[0;34m\u001b[0m\u001b[0;34m\u001b[0m\u001b[0m\n\u001b[1;32m      3\u001b[0m \u001b[0mprint\u001b[0m\u001b[0;34m(\u001b[0m\u001b[0mpredictions\u001b[0m\u001b[0;34m.\u001b[0m\u001b[0mshape\u001b[0m\u001b[0;34m)\u001b[0m\u001b[0;34m\u001b[0m\u001b[0;34m\u001b[0m\u001b[0m\n",
      "\u001b[0;31mTypeError\u001b[0m: unsupported operand type(s) for *: 'float' and 'NoneType'"
     ]
    }
   ],
   "source": [
    "predictions=np.dot(Xs2,thetas)\n",
    "#print(predictions)\n",
    "print(predictions.shape)"
   ]
  },
  {
   "cell_type": "code",
   "execution_count": 18,
   "metadata": {
    "colab": {
     "base_uri": "https://localhost:8080/",
     "height": 214
    },
    "colab_type": "code",
    "id": "m8fQCR2ds8w1",
    "outputId": "234ec794-9fa3-4231-8f7a-515684e1a1c2"
   },
   "outputs": [
    {
     "name": "stdout",
     "output_type": "stream",
     "text": [
      "(303, 3) (256, 3)\n"
     ]
    }
   ],
   "source": [
    "from scipy.stats import logistic\n",
    "from scipy.special import expit\n",
    "prob=expit(predictions)\n",
    "prob[prob > 0.5] = 1\n",
    "prob[prob <= 0.5] = 0\n",
    "prob.shape\n",
    "test_df['prob']=prob\n",
    "#match=test_df.apply(lambda x: x if x['Insult']==x['prob'],axis=1)\n",
    "#notmatch=test_df.apply(lambda x: x if x['Insult']!=x['prob'],axis=1)\n",
    "#notmatch\n",
    "match=test_df[test_df['Insult']==test_df['prob']]\n",
    "notmatch=test_df[test_df['Insult']!=test_df['prob']]\n",
    "print(match.shape,notmatch.shape)"
   ]
  },
  {
   "cell_type": "code",
   "execution_count": null,
   "metadata": {},
   "outputs": [],
   "source": []
  }
 ],
 "metadata": {
  "colab": {
   "collapsed_sections": [],
   "name": "HateSpeech_LogisticRegression.ipynb",
   "provenance": [],
   "version": "0.3.2"
  },
  "kernelspec": {
   "display_name": "python3.7",
   "language": "python",
   "name": "python3.7"
  },
  "language_info": {
   "codemirror_mode": {
    "name": "ipython",
    "version": 3
   },
   "file_extension": ".py",
   "mimetype": "text/x-python",
   "name": "python",
   "nbconvert_exporter": "python",
   "pygments_lexer": "ipython3",
   "version": "3.7.3"
  }
 },
 "nbformat": 4,
 "nbformat_minor": 1
}
