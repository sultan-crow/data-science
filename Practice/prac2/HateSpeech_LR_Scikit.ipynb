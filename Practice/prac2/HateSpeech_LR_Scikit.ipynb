{
 "cells": [
  {
   "cell_type": "code",
   "execution_count": 107,
   "metadata": {},
   "outputs": [],
   "source": [
    "import pandas as pd\n",
    "import re, string, math\n",
    "import numpy as np\n",
    "import seaborn as sns\n",
    "from sklearn.model_selection import train_test_split\n",
    "\n",
    "import warnings\n",
    "warnings.filterwarnings('ignore')"
   ]
  },
  {
   "cell_type": "code",
   "execution_count": 118,
   "metadata": {},
   "outputs": [],
   "source": [
    "train_url=\"/home/ketan/Documents/Projects/learning/Saggy/Practice/prac2/train.csv\"\n",
    "test_url=\"/home/ketan/Documents/Projects/learning/Saggy/Practice/prac2/dev.csv\"\n",
    "train_data=pd.read_csv(train_url)\n",
    "test_data=pd.read_csv(test_url)\n",
    "#train_data, test_data=train_test_split(dataset, test_size=0.3, random_state=22)"
   ]
  },
  {
   "cell_type": "code",
   "execution_count": 119,
   "metadata": {},
   "outputs": [
    {
     "data": {
      "text/html": [
       "<div>\n",
       "<style scoped>\n",
       "    .dataframe tbody tr th:only-of-type {\n",
       "        vertical-align: middle;\n",
       "    }\n",
       "\n",
       "    .dataframe tbody tr th {\n",
       "        vertical-align: top;\n",
       "    }\n",
       "\n",
       "    .dataframe thead th {\n",
       "        text-align: right;\n",
       "    }\n",
       "</style>\n",
       "<table border=\"1\" class=\"dataframe\">\n",
       "  <thead>\n",
       "    <tr style=\"text-align: right;\">\n",
       "      <th></th>\n",
       "      <th>Insult</th>\n",
       "      <th>Comment</th>\n",
       "    </tr>\n",
       "  </thead>\n",
       "  <tbody>\n",
       "    <tr>\n",
       "      <th>0</th>\n",
       "      <td>1</td>\n",
       "      <td>\"You fuck your dad.\"</td>\n",
       "    </tr>\n",
       "    <tr>\n",
       "      <th>1</th>\n",
       "      <td>0</td>\n",
       "      <td>\"i really don't understand your point.\\xa0 It ...</td>\n",
       "    </tr>\n",
       "    <tr>\n",
       "      <th>2</th>\n",
       "      <td>0</td>\n",
       "      <td>\"A\\\\xc2\\\\xa0majority of Canadians can and has ...</td>\n",
       "    </tr>\n",
       "    <tr>\n",
       "      <th>3</th>\n",
       "      <td>0</td>\n",
       "      <td>\"listen if you dont wanna get married to a man...</td>\n",
       "    </tr>\n",
       "    <tr>\n",
       "      <th>4</th>\n",
       "      <td>0</td>\n",
       "      <td>\"C\\xe1c b\\u1ea1n xu\\u1ed1ng \\u0111\\u01b0\\u1edd...</td>\n",
       "    </tr>\n",
       "  </tbody>\n",
       "</table>\n",
       "</div>"
      ],
      "text/plain": [
       "   Insult                                            Comment\n",
       "0       1                               \"You fuck your dad.\"\n",
       "1       0  \"i really don't understand your point.\\xa0 It ...\n",
       "2       0  \"A\\\\xc2\\\\xa0majority of Canadians can and has ...\n",
       "3       0  \"listen if you dont wanna get married to a man...\n",
       "4       0  \"C\\xe1c b\\u1ea1n xu\\u1ed1ng \\u0111\\u01b0\\u1edd..."
      ]
     },
     "execution_count": 119,
     "metadata": {},
     "output_type": "execute_result"
    }
   ],
   "source": [
    "train_data.head()"
   ]
  },
  {
   "cell_type": "code",
   "execution_count": 120,
   "metadata": {},
   "outputs": [
    {
     "data": {
      "text/plain": [
       "((2234, 2), (3947, 2))"
      ]
     },
     "execution_count": 120,
     "metadata": {},
     "output_type": "execute_result"
    }
   ],
   "source": [
    "test_data.head()\n",
    "test_data.shape,train_data.shape"
   ]
  },
  {
   "cell_type": "code",
   "execution_count": 121,
   "metadata": {},
   "outputs": [],
   "source": [
    "reg = re.compile(\"([a-z ])\", re.IGNORECASE | re.DOTALL | re.MULTILINE)\n",
    "def tokenize(comment_text):\n",
    "    comment_text = comment_text.lower()\n",
    "    #print(comment_text)\n",
    "    comment_text = comment_text.translate(comment_text.maketrans(string.punctuation,' ' * len(string.punctuation)))\n",
    "    comment_text = \"\".join(reg.findall(comment_text))\n",
    "    #print(comment_text)\n",
    "    return comment_text.strip()\n",
    "def populate_dict(x):\n",
    "    #print(x)\n",
    "    #print(list(filter(None, tokenize(x).split(\" \"))))\n",
    "    vocab.update(list(filter(None,tokenize(x).split(\" \"))))    "
   ]
  },
  {
   "cell_type": "code",
   "execution_count": 130,
   "metadata": {},
   "outputs": [
    {
     "name": "stdout",
     "output_type": "stream",
     "text": [
      "Length of vocab is: 15914\n"
     ]
    }
   ],
   "source": [
    "from sklearn.feature_extraction.text import CountVectorizer\n",
    "vocab=set()\n",
    "cv = CountVectorizer(vocabulary=vocab)\n",
    "\n",
    "np.vectorize(populate_dict)(train_data['Comment'])\n",
    "print(\"Length of vocab is:\",len(vocab))"
   ]
  },
  {
   "cell_type": "code",
   "execution_count": 126,
   "metadata": {},
   "outputs": [
    {
     "name": "stdout",
     "output_type": "stream",
     "text": [
      "Length of vocab is: 15914\n"
     ]
    }
   ],
   "source": [
    "from sklearn.feature_extraction.text import TfidfVectorizer\n",
    "vocab=set()\n",
    "cv = TfidfVectorizer(vocabulary=vocab,stop_words='english')\n",
    "\n",
    "np.vectorize(populate_dict)(train_data['Comment'])\n",
    "print(\"Length of vocab is:\",len(vocab))"
   ]
  },
  {
   "cell_type": "code",
   "execution_count": 131,
   "metadata": {},
   "outputs": [
    {
     "data": {
      "text/plain": [
       "array([[0, 0, 0, ..., 0, 0, 0],\n",
       "       [0, 0, 0, ..., 0, 0, 0],\n",
       "       [0, 0, 0, ..., 0, 0, 0],\n",
       "       ...,\n",
       "       [0, 0, 0, ..., 0, 0, 0],\n",
       "       [0, 0, 0, ..., 0, 0, 0],\n",
       "       [0, 0, 0, ..., 0, 0, 0]])"
      ]
     },
     "execution_count": 131,
     "metadata": {},
     "output_type": "execute_result"
    }
   ],
   "source": [
    "#train_data['Comments']=train_data.apply(lambda x: list(filter(None,tokenize(x['Comment']).split(' '))), axis=1)\n",
    "#train_data['Comments']=train_data.apply(lambda x: list(filter(None,tokenize(x['Comment']))), axis=1)\n",
    "# cv.fit_transform(\n",
    "#     train_data.apply(lambda x: list(filter(None,tokenize(x['Comment']).split(' '))), axis=1)\n",
    "# )\n",
    "features=cv.fit_transform(\n",
    "    train_data.apply(lambda x: tokenize(x['Comment']), axis=1)\n",
    ").toarray()\n",
    "features"
   ]
  },
  {
   "cell_type": "code",
   "execution_count": 132,
   "metadata": {},
   "outputs": [
    {
     "data": {
      "text/plain": [
       "LogisticRegression(C=1.0, class_weight=None, dual=False, fit_intercept=True,\n",
       "          intercept_scaling=1, max_iter=1000, multi_class='warn',\n",
       "          n_jobs=None, penalty='l2', random_state=None, solver='warn',\n",
       "          tol=0.0001, verbose=0, warm_start=False)"
      ]
     },
     "execution_count": 132,
     "metadata": {},
     "output_type": "execute_result"
    }
   ],
   "source": [
    "from sklearn.model_selection import train_test_split #for split the data\n",
    "from sklearn.linear_model import LogisticRegression # Logistic Regression\n",
    "from sklearn.metrics import accuracy_score  #for accuracy_score\n",
    "\n",
    "from sklearn.model_selection import KFold #for K-fold cross validation\n",
    "from sklearn.model_selection import cross_val_score\n",
    "from sklearn.model_selection import cross_val_predict\n",
    "from sklearn.metrics import confusion_matrix\n",
    "\n",
    "lr_model=LogisticRegression(max_iter=1000)\n",
    "lr_model.fit(features,train_data['Insult'])"
   ]
  },
  {
   "cell_type": "code",
   "execution_count": 133,
   "metadata": {},
   "outputs": [
    {
     "name": "stdout",
     "output_type": "stream",
     "text": [
      "Accuracy is:  70.55 %\n"
     ]
    }
   ],
   "source": [
    "X_test=cv.fit_transform(\n",
    "    test_data.apply(lambda x: tokenize(x['Comment']), axis=1)\n",
    ").toarray()\n",
    "Y_test=test_data['Insult']\n",
    "lr_prediction=lr_model.predict(X_test)\n",
    "print(\"Accuracy is: \",round(accuracy_score(lr_prediction,Y_test)*100,2),\"%\")"
   ]
  },
  {
   "cell_type": "code",
   "execution_count": null,
   "metadata": {},
   "outputs": [],
   "source": []
  }
 ],
 "metadata": {
  "kernelspec": {
   "display_name": "python3.7",
   "language": "python",
   "name": "python3.7"
  },
  "language_info": {
   "codemirror_mode": {
    "name": "ipython",
    "version": 3
   },
   "file_extension": ".py",
   "mimetype": "text/x-python",
   "name": "python",
   "nbconvert_exporter": "python",
   "pygments_lexer": "ipython3",
   "version": "3.7.3"
  }
 },
 "nbformat": 4,
 "nbformat_minor": 2
}
