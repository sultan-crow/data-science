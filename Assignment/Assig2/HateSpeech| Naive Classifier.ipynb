{
 "cells": [
  {
   "cell_type": "code",
   "execution_count": 12,
   "metadata": {},
   "outputs": [],
   "source": [
    "import pandas as pd\n",
    "import numpy as np\n",
    "import string\n",
    "from collections import Counter\n",
    "from nltk.corpus import stopwords\n"
   ]
  },
  {
   "cell_type": "code",
   "execution_count": 23,
   "metadata": {},
   "outputs": [],
   "source": [
    "train_dataset=pd.DataFrame(pd.read_csv('train2.csv'))\n",
    "dev_dataset=pd.read_csv('dev.csv')\n",
    "train_dataset.head()\n",
    "stopWords = stopwords.words(\"english\")\n"
   ]
  },
  {
   "cell_type": "code",
   "execution_count": 24,
   "metadata": {},
   "outputs": [],
   "source": [
    "#Clean data, remove punctuation and lower the text\n",
    "def clean_data(x):\n",
    "    x=x['Comment'].lower()\n",
    "    x=x.translate(x.maketrans(string.punctuation,' ' * len(string.punctuation)))\n",
    "    return x.replace('  ',' ').strip()\n",
    "\n",
    "\n",
    "def vectorize(x):\n",
    "    tokens=Counter(x['Comment'].split())\n",
    "    for item in words:\n",
    "        x[item]=0\n",
    "        if tokens[item]>0:\n",
    "            x[item]=tokens[item]\n",
    "    return x"
   ]
  },
  {
   "cell_type": "code",
   "execution_count": 68,
   "metadata": {},
   "outputs": [
    {
     "name": "stdout",
     "output_type": "stream",
     "text": [
      "Total distinct words in the comment is 16\n"
     ]
    },
    {
     "data": {
      "text/html": [
       "<div>\n",
       "<style scoped>\n",
       "    .dataframe tbody tr th:only-of-type {\n",
       "        vertical-align: middle;\n",
       "    }\n",
       "\n",
       "    .dataframe tbody tr th {\n",
       "        vertical-align: top;\n",
       "    }\n",
       "\n",
       "    .dataframe thead th {\n",
       "        text-align: right;\n",
       "    }\n",
       "</style>\n",
       "<table border=\"1\" class=\"dataframe\">\n",
       "  <thead>\n",
       "    <tr style=\"text-align: right;\">\n",
       "      <th>Insult</th>\n",
       "      <th>0</th>\n",
       "      <th>1</th>\n",
       "    </tr>\n",
       "  </thead>\n",
       "  <tbody>\n",
       "    <tr>\n",
       "      <th>dad</th>\n",
       "      <td>0</td>\n",
       "      <td>1</td>\n",
       "    </tr>\n",
       "    <tr>\n",
       "      <th>shut</th>\n",
       "      <td>0</td>\n",
       "      <td>1</td>\n",
       "    </tr>\n",
       "    <tr>\n",
       "      <th>friends</th>\n",
       "      <td>0</td>\n",
       "      <td>1</td>\n",
       "    </tr>\n",
       "    <tr>\n",
       "      <th>fuck</th>\n",
       "      <td>0</td>\n",
       "      <td>2</td>\n",
       "    </tr>\n",
       "    <tr>\n",
       "      <th>burned</th>\n",
       "      <td>0</td>\n",
       "      <td>1</td>\n",
       "    </tr>\n",
       "  </tbody>\n",
       "</table>\n",
       "</div>"
      ],
      "text/plain": [
       "Insult   0  1\n",
       "dad      0  1\n",
       "shut     0  1\n",
       "friends  0  1\n",
       "fuck     0  2\n",
       "burned   0  1"
      ]
     },
     "execution_count": 68,
     "metadata": {},
     "output_type": "execute_result"
    }
   ],
   "source": [
    "#Use Bernoulli\n",
    "\n",
    "#Clean data\n",
    "train_dataset['Comment']=train_dataset.apply(clean_data, axis=1)\n",
    "#train_dataset.head()\n",
    "#Create a set of all the words(even stop words) occurring in the comments\n",
    "words=set()\n",
    "\n",
    "#train_dataset.apply(lambda x: words.update(x['Comment'].split()),axis=1)\n",
    "#Dropping stop words\n",
    "train_dataset.apply(lambda x: words.update(word for word in x['Comment'].split() if word not in stopWords),axis=1)\n",
    "\n",
    "\n",
    "#Removing this word since it's a part of the column\n",
    "words-={'Insult'}\n",
    "\n",
    "print('Total distinct words in the comment is',len(words))\n",
    "#train_dataset\n",
    "vector=train_dataset.apply(vectorize, axis=1)\n",
    "feature_matrix=vector.drop(['Comment'],axis=1)#.transpose()\n",
    "\n",
    "agg_feature_matrix=feature_matrix.groupby(['Insult']).sum().T\n",
    "agg_feature_matrix.head()"
   ]
  },
  {
   "cell_type": "code",
   "execution_count": 70,
   "metadata": {},
   "outputs": [
    {
     "name": "stdout",
     "output_type": "stream",
     "text": [
      "Count of 1's= 10 ,and Count of 0's is  8 ,Total Count is  18\n",
      "Probability of 1's= 0.5555555555555556 ,and Probability of 0's is  0.4444444444444444\n"
     ]
    }
   ],
   "source": [
    "#Aggregations\n",
    "\n",
    "total=agg_feature_matrix.sum(axis=0)\n",
    "tot_0=total[0]\n",
    "tot_1=total[1]\n",
    "totalwords=tot_1+tot_0\n",
    "\n",
    "print('Count of 1\\'s=',tot_1,',and Count of 0\\'s is ',tot_0,',Total Count is ',totalwords)\n",
    "prob_0=tot_0/totalwords #Probabilty of 0, ie. not insult\n",
    "prob_1=tot_1/totalwords #Probabilty of 1, ie. insult\n",
    "print('Probability of 1\\'s=',prob_1,',and Probability of 0\\'s is ',prob_0)\n",
    "\n",
    "agg_feature_matrix['word_prob_gvn1']=agg_feature_matrix.apply(lambda x: x[1]/tot_1,axis=1)\n",
    "agg_feature_matrix['word_prob_tot']=agg_feature_matrix.apply(lambda x: (x[1]+x[0])/totalwords,axis=1)\n",
    "#agg_feature_matrix.T\n",
    "proba_matrix=agg_feature_matrix.T.iloc[[2,3]].reset_index()\n",
    "proba_matrix.to_csv('prob_out.csv',index=False)"
   ]
  },
  {
   "cell_type": "code",
   "execution_count": null,
   "metadata": {},
   "outputs": [],
   "source": [
    "#P(1|Words)=(P(Words|1)*P(1))/P(Words)\n",
    "#P(1|Words)=P(word1|1)*P(word2|1)*P(word3|1)...*P(1)/(P(word1)*P(word2)*P(word3)...)\n",
    "\n",
    "#probability of 1, given words=((probability of words given 1)*probability of words)/(probabilty of words)"
   ]
  },
  {
   "cell_type": "code",
   "execution_count": 71,
   "metadata": {},
   "outputs": [
    {
     "data": {
      "text/html": [
       "<div>\n",
       "<style scoped>\n",
       "    .dataframe tbody tr th:only-of-type {\n",
       "        vertical-align: middle;\n",
       "    }\n",
       "\n",
       "    .dataframe tbody tr th {\n",
       "        vertical-align: top;\n",
       "    }\n",
       "\n",
       "    .dataframe thead th {\n",
       "        text-align: right;\n",
       "    }\n",
       "</style>\n",
       "<table border=\"1\" class=\"dataframe\">\n",
       "  <thead>\n",
       "    <tr style=\"text-align: right;\">\n",
       "      <th></th>\n",
       "      <th>Insult</th>\n",
       "      <th>dad</th>\n",
       "      <th>shut</th>\n",
       "      <th>friends</th>\n",
       "      <th>fuck</th>\n",
       "      <th>burned</th>\n",
       "      <th>understand</th>\n",
       "      <th>oranges</th>\n",
       "      <th>faggot</th>\n",
       "      <th>seems</th>\n",
       "      <th>apples</th>\n",
       "      <th>stake</th>\n",
       "      <th>rest</th>\n",
       "      <th>point</th>\n",
       "      <th>really</th>\n",
       "      <th>xa0</th>\n",
       "      <th>mixing</th>\n",
       "    </tr>\n",
       "  </thead>\n",
       "  <tbody>\n",
       "    <tr>\n",
       "      <th>0</th>\n",
       "      <td>word_prob_gvn1</td>\n",
       "      <td>0.100000</td>\n",
       "      <td>0.100000</td>\n",
       "      <td>0.100000</td>\n",
       "      <td>0.200000</td>\n",
       "      <td>0.100000</td>\n",
       "      <td>0.000000</td>\n",
       "      <td>0.100000</td>\n",
       "      <td>0.100000</td>\n",
       "      <td>0.000000</td>\n",
       "      <td>0.000000</td>\n",
       "      <td>0.100000</td>\n",
       "      <td>0.100000</td>\n",
       "      <td>0.000000</td>\n",
       "      <td>0.000000</td>\n",
       "      <td>0.000000</td>\n",
       "      <td>0.000000</td>\n",
       "    </tr>\n",
       "    <tr>\n",
       "      <th>1</th>\n",
       "      <td>word_prob_tot</td>\n",
       "      <td>0.055556</td>\n",
       "      <td>0.055556</td>\n",
       "      <td>0.055556</td>\n",
       "      <td>0.111111</td>\n",
       "      <td>0.055556</td>\n",
       "      <td>0.055556</td>\n",
       "      <td>0.111111</td>\n",
       "      <td>0.055556</td>\n",
       "      <td>0.055556</td>\n",
       "      <td>0.055556</td>\n",
       "      <td>0.055556</td>\n",
       "      <td>0.055556</td>\n",
       "      <td>0.055556</td>\n",
       "      <td>0.055556</td>\n",
       "      <td>0.055556</td>\n",
       "      <td>0.055556</td>\n",
       "    </tr>\n",
       "  </tbody>\n",
       "</table>\n",
       "</div>"
      ],
      "text/plain": [
       "           Insult       dad      shut   friends      fuck    burned  \\\n",
       "0  word_prob_gvn1  0.100000  0.100000  0.100000  0.200000  0.100000   \n",
       "1   word_prob_tot  0.055556  0.055556  0.055556  0.111111  0.055556   \n",
       "\n",
       "   understand   oranges    faggot     seems    apples     stake      rest  \\\n",
       "0    0.000000  0.100000  0.100000  0.000000  0.000000  0.100000  0.100000   \n",
       "1    0.055556  0.111111  0.055556  0.055556  0.055556  0.055556  0.055556   \n",
       "\n",
       "      point    really       xa0    mixing  \n",
       "0  0.000000  0.000000  0.000000  0.000000  \n",
       "1  0.055556  0.055556  0.055556  0.055556  "
      ]
     },
     "execution_count": 71,
     "metadata": {},
     "output_type": "execute_result"
    }
   ],
   "source": [
    "prob_out=pd.read_csv('prob_out.csv')\n",
    "prob_out"
   ]
  },
  {
   "cell_type": "code",
   "execution_count": 185,
   "metadata": {},
   "outputs": [],
   "source": [
    "#Pass df of comment\n",
    "def test_data(x):\n",
    "    #print(x)\n",
    "    comment=clean_data(x)\n",
    "    #print(comment)\n",
    "    net_prob=float(1.0)\n",
    "    \n",
    "    words=[word for word in comment.split() if word not in stopWords]\n",
    "    for word in words:\n",
    "        wordprob_gvn1=prob_out[word][[0]]\n",
    "        prob_word=prob_out[word][[1]]\n",
    "        #print(wordprob_gvn1,wordprob_gvn1)\n",
    "        net_prob=(net_prob*wordprob_gvn1)\n",
    "        print('Multi',net_prob,wordprob_gvn1)\n",
    "        net_pro=net_prob/prob_word\n",
    "        print('Divide',net_prob,prob_word)\n",
    "    return net_prob*prob_1\n",
    "        \n",
    "        "
   ]
  },
  {
   "cell_type": "code",
   "execution_count": 186,
   "metadata": {},
   "outputs": [],
   "source": [
    "#Doubts\n",
    "#How to make model ot of it?\n",
    "# Is it just like method call?\n",
    "#What if input has same word multiple times?\n",
    "# Remove index while saving csv\n",
    "\n",
    "\n",
    "#if prob_out[word][[0]]>0:\n",
    "         #   net_prob=net_prob*prob_out[word][[0]]\n",
    "        \n",
    "        #print('Net prob2',net_prob)\n",
    "        #if prob_out[word][[1]]>0:\n",
    "         #   net_prob=net_prob*prob_out[word][[1]]\n",
    "        #print('Net prob3',net_prob)\n",
    "    #print(net_prob*prob_1)    "
   ]
  },
  {
   "cell_type": "code",
   "execution_count": 187,
   "metadata": {},
   "outputs": [
    {
     "name": "stdout",
     "output_type": "stream",
     "text": [
      "Multi 0    0.2\n",
      "Name: fuck, dtype: float64 0    0.2\n",
      "Name: fuck, dtype: float64\n",
      "Divide 0    0.2\n",
      "Name: fuck, dtype: float64 1    0.111111\n",
      "Name: fuck, dtype: float64\n",
      "Multi 0    0.02\n",
      "dtype: float64 0    0.1\n",
      "Name: dad, dtype: float64\n",
      "Divide 0    0.02\n",
      "dtype: float64 1    0.055556\n",
      "Name: dad, dtype: float64\n",
      "Multi 0    0.002\n",
      "dtype: float64 0    0.1\n",
      "Name: oranges, dtype: float64\n",
      "Divide 0    0.002\n",
      "dtype: float64 1    0.111111\n",
      "Name: oranges, dtype: float64\n",
      "Multi 0    0.2\n",
      "Name: fuck, dtype: float64 0    0.2\n",
      "Name: fuck, dtype: float64\n",
      "Divide 0    0.2\n",
      "Name: fuck, dtype: float64 1    0.111111\n",
      "Name: fuck, dtype: float64\n",
      "Multi 0    0.02\n",
      "dtype: float64 0    0.1\n",
      "Name: dad, dtype: float64\n",
      "Divide 0    0.02\n",
      "dtype: float64 1    0.055556\n",
      "Name: dad, dtype: float64\n",
      "Multi 0    0.002\n",
      "dtype: float64 0    0.1\n",
      "Name: oranges, dtype: float64\n",
      "Divide 0    0.002\n",
      "dtype: float64 1    0.111111\n",
      "Name: oranges, dtype: float64\n"
     ]
    },
    {
     "data": {
      "text/html": [
       "<div>\n",
       "<style scoped>\n",
       "    .dataframe tbody tr th:only-of-type {\n",
       "        vertical-align: middle;\n",
       "    }\n",
       "\n",
       "    .dataframe tbody tr th {\n",
       "        vertical-align: top;\n",
       "    }\n",
       "\n",
       "    .dataframe thead th {\n",
       "        text-align: right;\n",
       "    }\n",
       "</style>\n",
       "<table border=\"1\" class=\"dataframe\">\n",
       "  <thead>\n",
       "    <tr style=\"text-align: right;\">\n",
       "      <th></th>\n",
       "      <th>0</th>\n",
       "    </tr>\n",
       "  </thead>\n",
       "  <tbody>\n",
       "    <tr>\n",
       "      <th>0</th>\n",
       "      <td>0.001111</td>\n",
       "    </tr>\n",
       "  </tbody>\n",
       "</table>\n",
       "</div>"
      ],
      "text/plain": [
       "          0\n",
       "0  0.001111"
      ]
     },
     "execution_count": 187,
     "metadata": {},
     "output_type": "execute_result"
    }
   ],
   "source": [
    "test=pd.read_csv('train2.csv')\n",
    "\n",
    "test.apply(test_data,axis=1)"
   ]
  },
  {
   "cell_type": "code",
   "execution_count": null,
   "metadata": {},
   "outputs": [],
   "source": []
  }
 ],
 "metadata": {
  "kernelspec": {
   "display_name": "python3.7",
   "language": "python",
   "name": "python3.7"
  },
  "language_info": {
   "codemirror_mode": {
    "name": "ipython",
    "version": 3
   },
   "file_extension": ".py",
   "mimetype": "text/x-python",
   "name": "python",
   "nbconvert_exporter": "python",
   "pygments_lexer": "ipython3",
   "version": "3.7.3"
  }
 },
 "nbformat": 4,
 "nbformat_minor": 2
}
