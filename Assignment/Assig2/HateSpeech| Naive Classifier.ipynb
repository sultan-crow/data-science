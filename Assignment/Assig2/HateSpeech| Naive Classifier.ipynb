{
 "cells": [
  {
   "cell_type": "code",
   "execution_count": 12,
   "metadata": {},
   "outputs": [],
   "source": [
    "import pandas as pd\n",
    "import numpy as np\n",
    "import string\n",
    "from collections import Counter\n",
    "from nltk.corpus import stopwords\n"
   ]
  },
  {
   "cell_type": "code",
   "execution_count": 16,
   "metadata": {},
   "outputs": [],
   "source": [
    "train_dataset=pd.DataFrame(pd.read_csv('train2.csv'))\n",
    "dev_dataset=pd.read_csv('dev.csv')\n",
    "train_dataset.head()\n",
    "stopWords = stopwords.words(\"english\")\n"
   ]
  },
  {
   "cell_type": "code",
   "execution_count": 17,
   "metadata": {},
   "outputs": [],
   "source": [
    "#Clean data, remove punctuation and lower the text\n",
    "def clean_data(x):\n",
    "    x=x['Comment'].lower()\n",
    "    x=x.translate(x.maketrans(string.punctuation,' ' * len(string.punctuation)))\n",
    "    return x.replace('  ',' ').strip()\n",
    "\n",
    "\n",
    "def vectorize(x):\n",
    "    tokens=Counter(x['Comment'].split())\n",
    "    for item in words:\n",
    "        x[item]=0\n",
    "        if tokens[item]>0:\n",
    "            x[item]=tokens[item]\n",
    "    return x"
   ]
  },
  {
   "cell_type": "code",
   "execution_count": 21,
   "metadata": {},
   "outputs": [
    {
     "name": "stdout",
     "output_type": "stream",
     "text": [
      "Total distinct words in the comment is 16\n",
      "Count of 1's= 9 , and Count of 0's is  8\n"
     ]
    },
    {
     "data": {
      "text/html": [
       "<div>\n",
       "<style scoped>\n",
       "    .dataframe tbody tr th:only-of-type {\n",
       "        vertical-align: middle;\n",
       "    }\n",
       "\n",
       "    .dataframe tbody tr th {\n",
       "        vertical-align: top;\n",
       "    }\n",
       "\n",
       "    .dataframe thead th {\n",
       "        text-align: right;\n",
       "    }\n",
       "</style>\n",
       "<table border=\"1\" class=\"dataframe\">\n",
       "  <thead>\n",
       "    <tr style=\"text-align: right;\">\n",
       "      <th>Insult</th>\n",
       "      <th>0</th>\n",
       "      <th>1</th>\n",
       "    </tr>\n",
       "  </thead>\n",
       "  <tbody>\n",
       "    <tr>\n",
       "      <th>dad</th>\n",
       "      <td>0</td>\n",
       "      <td>1</td>\n",
       "    </tr>\n",
       "    <tr>\n",
       "      <th>shut</th>\n",
       "      <td>0</td>\n",
       "      <td>1</td>\n",
       "    </tr>\n",
       "    <tr>\n",
       "      <th>friends</th>\n",
       "      <td>0</td>\n",
       "      <td>1</td>\n",
       "    </tr>\n",
       "    <tr>\n",
       "      <th>fuck</th>\n",
       "      <td>0</td>\n",
       "      <td>2</td>\n",
       "    </tr>\n",
       "    <tr>\n",
       "      <th>burned</th>\n",
       "      <td>0</td>\n",
       "      <td>1</td>\n",
       "    </tr>\n",
       "    <tr>\n",
       "      <th>understand</th>\n",
       "      <td>1</td>\n",
       "      <td>0</td>\n",
       "    </tr>\n",
       "    <tr>\n",
       "      <th>oranges</th>\n",
       "      <td>1</td>\n",
       "      <td>0</td>\n",
       "    </tr>\n",
       "    <tr>\n",
       "      <th>faggot</th>\n",
       "      <td>0</td>\n",
       "      <td>1</td>\n",
       "    </tr>\n",
       "    <tr>\n",
       "      <th>seems</th>\n",
       "      <td>1</td>\n",
       "      <td>0</td>\n",
       "    </tr>\n",
       "    <tr>\n",
       "      <th>apples</th>\n",
       "      <td>1</td>\n",
       "      <td>0</td>\n",
       "    </tr>\n",
       "    <tr>\n",
       "      <th>stake</th>\n",
       "      <td>0</td>\n",
       "      <td>1</td>\n",
       "    </tr>\n",
       "    <tr>\n",
       "      <th>rest</th>\n",
       "      <td>0</td>\n",
       "      <td>1</td>\n",
       "    </tr>\n",
       "    <tr>\n",
       "      <th>point</th>\n",
       "      <td>1</td>\n",
       "      <td>0</td>\n",
       "    </tr>\n",
       "    <tr>\n",
       "      <th>really</th>\n",
       "      <td>1</td>\n",
       "      <td>0</td>\n",
       "    </tr>\n",
       "    <tr>\n",
       "      <th>xa0</th>\n",
       "      <td>1</td>\n",
       "      <td>0</td>\n",
       "    </tr>\n",
       "    <tr>\n",
       "      <th>mixing</th>\n",
       "      <td>1</td>\n",
       "      <td>0</td>\n",
       "    </tr>\n",
       "  </tbody>\n",
       "</table>\n",
       "</div>"
      ],
      "text/plain": [
       "Insult      0  1\n",
       "dad         0  1\n",
       "shut        0  1\n",
       "friends     0  1\n",
       "fuck        0  2\n",
       "burned      0  1\n",
       "understand  1  0\n",
       "oranges     1  0\n",
       "faggot      0  1\n",
       "seems       1  0\n",
       "apples      1  0\n",
       "stake       0  1\n",
       "rest        0  1\n",
       "point       1  0\n",
       "really      1  0\n",
       "xa0         1  0\n",
       "mixing      1  0"
      ]
     },
     "execution_count": 21,
     "metadata": {},
     "output_type": "execute_result"
    }
   ],
   "source": [
    "#Use Bernoulli\n",
    "\n",
    "#Clean data\n",
    "train_dataset['Comment']=train_dataset.apply(clean_data, axis=1)\n",
    "#train_dataset.head()\n",
    "#Create a set of all the words(even stop words) occurring in the comments\n",
    "words=set()\n",
    "\n",
    "#train_dataset.apply(lambda x: words.update(x['Comment'].split()),axis=1)\n",
    "#Dropping stop words\n",
    "train_dataset.apply(lambda x: words.update(word for word in x['Comment'].split() if word not in stopWords),axis=1)\n",
    "\n",
    "\n",
    "#Removing this word since it's a part of the column\n",
    "words-={'Insult'}\n",
    "\n",
    "print('Total distinct words in the comment is',len(words))\n",
    "#train_dataset\n",
    "vector=train_dataset.apply(vectorize, axis=1)\n",
    "feature_matrix=vector.drop(['Comment'],axis=1)#.transpose()\n",
    "\n",
    "agg_feature_matrix=feature_matrix.groupby(['Insult']).sum().T\n",
    "\n",
    "total=agg_feature_matrix.sum(axis=0)\n",
    "print('Count of 1\\'s=',total[1],', and Count of 0\\'s is ',total[0])\n",
    "agg_feature_matrix"
   ]
  },
  {
   "cell_type": "code",
   "execution_count": 47,
   "metadata": {},
   "outputs": [
    {
     "data": {
      "text/plain": [
       "2"
      ]
     },
     "execution_count": 47,
     "metadata": {},
     "output_type": "execute_result"
    }
   ],
   "source": [
    "from collections import Counter\n",
    "a=set()\n",
    "a.update([1,2])\n",
    "a.update([11,22])\n",
    "[i for i in ['ab','bc','cd'] if i in ['cs','d','bck']]\n",
    "aa=Counter(['cs','d','bck','cs'])\n",
    "aa['cs']\n"
   ]
  },
  {
   "cell_type": "code",
   "execution_count": null,
   "metadata": {},
   "outputs": [],
   "source": []
  }
 ],
 "metadata": {
  "kernelspec": {
   "display_name": "python3.7",
   "language": "python",
   "name": "python3.7"
  },
  "language_info": {
   "codemirror_mode": {
    "name": "ipython",
    "version": 3
   },
   "file_extension": ".py",
   "mimetype": "text/x-python",
   "name": "python",
   "nbconvert_exporter": "python",
   "pygments_lexer": "ipython3",
   "version": "3.7.3"
  }
 },
 "nbformat": 4,
 "nbformat_minor": 2
}
